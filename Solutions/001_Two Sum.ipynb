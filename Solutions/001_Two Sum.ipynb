{
 "cells": [
  {
   "cell_type": "markdown",
   "id": "45907282",
   "metadata": {},
   "source": [
    "## [001] Two Sum\n",
    "\n"
   ]
  },
  {
   "cell_type": "code",
   "execution_count": 1,
   "id": "4744d988",
   "metadata": {},
   "outputs": [
    {
     "name": "stdout",
     "output_type": "stream",
     "text": [
      "[(2, 10), (3, 9), (4, 8), (5, 7)]\n"
     ]
    }
   ],
   "source": [
    "Entry = [1, 2, 3, 4, 5, 6, 7, 8, 9, 10]\n",
    "ExpectedSolution = 12\n",
    "\n",
    "def solution(IntegerList):\n",
    "    result = []\n",
    "    for i in range(len(IntegerList)):                               #Begin Search\n",
    "        for j in range(i+1, len(IntegerList)):                      #Begin Search + 1\n",
    "            if IntegerList[i] + IntegerList[j] == ExpectedSolution:\n",
    "                result.append((IntegerList[i], IntegerList[j]))\n",
    "    return result\n",
    "\n",
    "print(solution(Entry))"
   ]
  }
 ],
 "metadata": {
  "kernelspec": {
   "display_name": "Python 3",
   "language": "python",
   "name": "python3"
  },
  "language_info": {
   "codemirror_mode": {
    "name": "ipython",
    "version": 3
   },
   "file_extension": ".py",
   "mimetype": "text/x-python",
   "name": "python",
   "nbconvert_exporter": "python",
   "pygments_lexer": "ipython3",
   "version": "3.13.5"
  }
 },
 "nbformat": 4,
 "nbformat_minor": 5
}
