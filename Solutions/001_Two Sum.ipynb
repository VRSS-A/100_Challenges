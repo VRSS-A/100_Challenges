{
 "cells": [
  {
   "cell_type": "markdown",
   "id": "45907282",
   "metadata": {},
   "source": [
    "---\n",
    "\n",
    "---\n",
    "\n",
    "# [001] Two Sum\n",
    "\n",
    "-> *https://leetcode.com/problems/two-sum/*\n",
    "\n",
    "Given an array of integers nums and an integer target, return indices of the two numbers such that they add up to target.\n",
    "You may assume that each input would have exactly one solution, and you may not use the same element twice.\n",
    "You can return the answer in any order.\n",
    "\n",
    "**Example:**\n",
    "\n",
    "- Input: nums = [3,2,4], target = 6\n",
    "- Output: [1,2]\n",
    "\n",
    "**Constraints:**\n",
    "\n",
    "- 2 <= nums.length <= $10^4$\n",
    "- -$10^9$ <= nums[i] <= $10^9$\n",
    "- -$10^9$ <= target <= $10^9$\n",
    "- Only one valid answer exists."
   ]
  },
  {
   "cell_type": "markdown",
   "id": "95beafdf",
   "metadata": {},
   "source": [
    "---\n",
    "\n",
    "#### Solution\n",
    "\n",
    "Ignoring the constrains at frist and focusing solely on finding the possible combinations, it's easy to just use two consecutive loops. First a starting number, then analyse all the following numbers of the list for a matching combination!"
   ]
  },
  {
   "cell_type": "code",
   "execution_count": 5,
   "id": "4744d988",
   "metadata": {},
   "outputs": [
    {
     "name": "stdout",
     "output_type": "stream",
     "text": [
      "[(2, 10), (3, 9), (4, 8), (5, 7)]\n"
     ]
    }
   ],
   "source": [
    "Entry = [1, 2, 3, 4, 5, 6, 7, 8, 9, 10]\n",
    "ExpectedSolution = 12\n",
    "\n",
    "def solution(IntegerList):\n",
    "    result = []\n",
    "    for i in range(len(IntegerList)):                               #Begin Search\n",
    "        for j in range(i+1, len(IntegerList)):                      #Begin Search + 1\n",
    "            if IntegerList[i] + IntegerList[j] == ExpectedSolution:\n",
    "                result.append((IntegerList[i], IntegerList[j]))\n",
    "    return result\n",
    "\n",
    "print(solution(Entry))"
   ]
  },
  {
   "cell_type": "markdown",
   "id": "052db264",
   "metadata": {},
   "source": [
    "---\n",
    "\n",
    "#### Solution\n",
    "\n",
    "Problems:\n",
    "- Constrains...\n",
    "- $O^2$ complexity\n",
    "\n",
    "---\n",
    "\n",
    "#### Revision\n",
    "\n"
   ]
  }
 ],
 "metadata": {
  "kernelspec": {
   "display_name": "Python 3",
   "language": "python",
   "name": "python3"
  },
  "language_info": {
   "codemirror_mode": {
    "name": "ipython",
    "version": 3
   },
   "file_extension": ".py",
   "mimetype": "text/x-python",
   "name": "python",
   "nbconvert_exporter": "python",
   "pygments_lexer": "ipython3",
   "version": "3.13.5"
  }
 },
 "nbformat": 4,
 "nbformat_minor": 5
}
