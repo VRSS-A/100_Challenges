{
 "cells": [
  {
   "cell_type": "markdown",
   "id": "45907282",
   "metadata": {},
   "source": [
    "---\n",
    "\n",
    "---\n",
    "\n",
    "# [010] Search Insert Position\n",
    "-> *https://leetcode.com/problems/search-insert-position/*\n",
    "\n",
    "Given a sorted array of distinct integers and a target value, return the index if the target is found. If not, return the index where it would be if it were inserted in order.\n",
    "\n",
    "You must write an algorithm with O(log n) runtime complexity.\n",
    "\n",
    "**Example:**\n",
    "\n",
    "- Input: nums = [1,3,5,6], target = 7\n",
    "- Output: 4\n",
    " \n",
    "\n",
    "**Constraints:**\n",
    "\n",
    "- 1 <= nums.length <= $10^4$\n",
    "- -$10^4$ <= nums[i] <= $10^4$\n",
    "- nums contains distinct values sorted in ascending order.\n",
    "- -$10^4$ <= target <= $10^4$"
   ]
  },
  {
   "cell_type": "markdown",
   "id": "95beafdf",
   "metadata": {},
   "source": [
    "---\n",
    "\n",
    "#### Solution 1\n",
    "\n",
    "Prefix, as the name suggests, are the inicial parts (or radicals) withing the words! Therefor, it's a matter of comparing every word's beginning simultaneously:"
   ]
  },
  {
   "cell_type": "code",
   "execution_count": 8,
   "id": "4744d988",
   "metadata": {},
   "outputs": [
    {
     "name": "stdout",
     "output_type": "stream",
     "text": [
      "Longest prefix: 'fl'\n"
     ]
    }
   ],
   "source": [
    "strs = [\"flower\",\"flow\",\"flight\"]\n",
    "prefix = \"\"\n",
    "\n",
    "for i in range(min(len(s) for s in strs)):                          #i for each character index\n",
    "    reference_char = strs[0][i]                                     #First word, first character for comparison   \n",
    "    if all(strs[j][i] == reference_char for j in range(len(strs))): #j for each word. Therefor compare j words at i character\n",
    "        prefix += reference_char                                    #Add to prefix\n",
    "    else:\n",
    "        break                                                       #Missmatch  \n",
    "        \n",
    "print(f\"Longest prefix: '{prefix}'\")\n",
    "\n",
    "#Usage of \"all\"\n",
    "#all(True, True, True)  → True, cause all are True\n",
    "#all(True, True, False) → False, cause at least one is False"
   ]
  },
  {
   "cell_type": "markdown",
   "id": "052db264",
   "metadata": {},
   "source": [
    "---\n",
    "\n",
    "---\n",
    "\n"
   ]
  }
 ],
 "metadata": {
  "kernelspec": {
   "display_name": "Python 3",
   "language": "python",
   "name": "python3"
  },
  "language_info": {
   "codemirror_mode": {
    "name": "ipython",
    "version": 3
   },
   "file_extension": ".py",
   "mimetype": "text/x-python",
   "name": "python",
   "nbconvert_exporter": "python",
   "pygments_lexer": "ipython3",
   "version": "3.13.5"
  }
 },
 "nbformat": 4,
 "nbformat_minor": 5
}
