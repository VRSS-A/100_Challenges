{
 "cells": [
  {
   "cell_type": "markdown",
   "id": "45907282",
   "metadata": {},
   "source": [
    "---\n",
    "\n",
    "---\n",
    "\n",
    "# [010] Search Insert Position\n",
    "-> *https://leetcode.com/problems/search-insert-position/*\n",
    "\n",
    "Given a sorted array of distinct integers and a target value, return the index if the target is found. If not, return the index where it would be if it were inserted in order.\n",
    "\n",
    "You must write an algorithm with O(log n) runtime complexity.\n",
    "\n",
    "**Example:**\n",
    "\n",
    "- Input: nums = [1,3,5,6], target = 7\n",
    "- Output: 4\n",
    " \n",
    "\n",
    "**Constraints:**\n",
    "\n",
    "- 1 <= nums.length <= $10^4$\n",
    "- -$10^4$ <= nums[i] <= $10^4$\n",
    "- nums contains distinct values sorted in ascending order.\n",
    "- -$10^4$ <= target <= $10^4$"
   ]
  },
  {
   "cell_type": "markdown",
   "id": "95beafdf",
   "metadata": {},
   "source": [
    "---\n",
    "\n",
    "#### Solution 1\n",
    "\n",
    "O(log n) is found in Binary Search! Therefore, it's a must to implement something amongst the lines of:"
   ]
  },
  {
   "cell_type": "code",
   "execution_count": null,
   "id": "e61164ee",
   "metadata": {},
   "outputs": [],
   "source": [
    "'''\n",
    "left = 0\n",
    "right = len(nums) - 1\n",
    "\n",
    "while left <= right:\n",
    "    mid = (left + right) // 2\n",
    "    if nums[mid] == target:\n",
    "        return mid\n",
    "    elif nums[mid] < target:    #nums[mid] > target, therefore eliminate right half\n",
    "        left = mid + 1\n",
    "    else:                       #nums[mid] > target, therefore eliminate right half\n",
    "        right = mid - 1\n",
    "return left                     #If not found, left is the insertion point\n",
    "'''"
   ]
  },
  {
   "cell_type": "markdown",
   "id": "4f88fafb",
   "metadata": {},
   "source": [
    "Essencially, it's just a implementation of Binary Search..."
   ]
  },
  {
   "cell_type": "code",
   "execution_count": 1,
   "id": "4744d988",
   "metadata": {},
   "outputs": [
    {
     "name": "stdout",
     "output_type": "stream",
     "text": [
      "5 should be at index: 2\n"
     ]
    }
   ],
   "source": [
    "def searchInsert(nums, target):\n",
    "    left = 0\n",
    "    right = len(nums) - 1\n",
    "    \n",
    "    while left <= right:  \n",
    "        mid = (left + right) // 2\n",
    "        if target == nums[mid]:  \n",
    "            return mid  \n",
    "        elif target > nums[mid]:  \n",
    "            left = mid + 1\n",
    "        else:  \n",
    "            right = mid - 1\n",
    "    return left \n",
    "\n",
    "nums = [1, 3, 5, 6]\n",
    "target = 5\n",
    "result = searchInsert(nums, target)\n",
    "print(f\"{target} should be at index: {result}\")\n"
   ]
  },
  {
   "cell_type": "markdown",
   "id": "052db264",
   "metadata": {},
   "source": [
    "---\n",
    "\n",
    "---\n",
    "\n"
   ]
  }
 ],
 "metadata": {
  "kernelspec": {
   "display_name": "Python 3",
   "language": "python",
   "name": "python3"
  },
  "language_info": {
   "codemirror_mode": {
    "name": "ipython",
    "version": 3
   },
   "file_extension": ".py",
   "mimetype": "text/x-python",
   "name": "python",
   "nbconvert_exporter": "python",
   "pygments_lexer": "ipython3",
   "version": "3.13.5"
  }
 },
 "nbformat": 4,
 "nbformat_minor": 5
}
