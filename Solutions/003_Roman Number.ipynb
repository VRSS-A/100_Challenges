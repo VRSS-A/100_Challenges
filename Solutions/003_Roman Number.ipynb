{
 "cells": [
  {
   "cell_type": "markdown",
   "id": "45907282",
   "metadata": {},
   "source": [
    "---\n",
    "\n",
    "---\n",
    "\n",
    "# [003] Roman Number\n",
    "\n",
    "-> *https://leetcode.com/problems/roman-to-integer/description/*\n",
    "\n",
    "Given a roman numeral, convert it to an integer.\n",
    "\n",
    "**Example:**\n",
    "\n",
    "- Input: num = \"MCMXCIV\"\n",
    "- Output: 1994\n",
    "- Explanation: M = 1000, CM = 900, XC = 90 and IV = 4.\n",
    "\n",
    "**Constraints:**\n",
    "\n",
    "- 1 <= num.length <= 15\n",
    "- num contains only the characters ('I', 'V', 'X', 'L', 'C', 'D', 'M').\n",
    "- It is guaranteed that num is a valid roman numeral in the range [1, 3999]."
   ]
  },
  {
   "cell_type": "markdown",
   "id": "95beafdf",
   "metadata": {},
   "source": [
    "---\n",
    "\n",
    "#### Solution\n",
    "\n",
    "Focusing on the combinations of the letters it's possible to see:\n",
    "\n",
    "| Roman Numeral | Value | Notes |\n",
    "|---------------|-------|-------|\n",
    "| I             | 1     | Basic |\n",
    "| V             | 5     | Basic |\n",
    "| X             | 10    | Basic |\n",
    "| L             | 50    | Basic |\n",
    "| C             | 100   | Basic |\n",
    "| D             | 500   | Basic |\n",
    "| M             | 1000  | Basic |\n",
    "| IV            | 4     | Combination |\n",
    "| IX            | 9     | Combination |\n",
    "| XL            | 40    | Combination |\n",
    "| XC            | 90    | Combination |\n",
    "| CD            | 400   | Combination |\n",
    "| CM            | 900   | Combination |\n",
    "\n",
    "Therefor it's a matter of correctly analysing the basic and combination cases with Ifs structures."
   ]
  },
  {
   "cell_type": "code",
   "execution_count": 12,
   "id": "4744d988",
   "metadata": {},
   "outputs": [
    {
     "name": "stdout",
     "output_type": "stream",
     "text": [
      "1994\n"
     ]
    }
   ],
   "source": [
    "Combinations = {\"IV\": 4, \"IX\": 9, \"XL\": 40, \"XC\": 90, \"CD\": 400, \"CM\": 900}\n",
    "Basic = {\"I\": 1, \"V\": 5, \"X\": 10, \"L\": 50, \"C\": 100, \"D\": 500, \"M\": 1000}\n",
    "\n",
    "Num = \"MCMXCIV\"\n",
    "Value = 0\n",
    "i = 0       #Don't forget to inicialize this little friend...\n",
    "\n",
    "while i < len(Num):\n",
    "    if i +1 < len(Num) and Num[i:i+2] in Combinations:\n",
    "        Value += Combinations[Num[i:i+2]]\n",
    "        i += 2\n",
    "    else:\n",
    "        Value += Basic[Num[i]]\n",
    "        i += 1\n",
    "\n",
    "print(Value)"
   ]
  },
  {
   "cell_type": "markdown",
   "id": "052db264",
   "metadata": {},
   "source": [
    "---\n",
    "\n",
    "---\n",
    "\n"
   ]
  }
 ],
 "metadata": {
  "kernelspec": {
   "display_name": "Python 3",
   "language": "python",
   "name": "python3"
  },
  "language_info": {
   "codemirror_mode": {
    "name": "ipython",
    "version": 3
   },
   "file_extension": ".py",
   "mimetype": "text/x-python",
   "name": "python",
   "nbconvert_exporter": "python",
   "pygments_lexer": "ipython3",
   "version": "3.13.5"
  }
 },
 "nbformat": 4,
 "nbformat_minor": 5
}
