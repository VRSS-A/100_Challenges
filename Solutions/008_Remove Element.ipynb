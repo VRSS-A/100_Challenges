{
 "cells": [
  {
   "cell_type": "markdown",
   "id": "45907282",
   "metadata": {},
   "source": [
    "---\n",
    "\n",
    "---\n",
    "\n",
    "# [008] Remove Element\n",
    "-> *https://leetcode.com/problems/remove-element/*\n",
    "\n",
    "Given an integer array nums and an integer val, remove all occurrences of val in nums in-place. The order of the elements may be changed. Then return the number of elements in nums which are not equal to val.\n",
    "\n",
    "Consider the number of elements in nums which are not equal to val be k, to get accepted, you need to do the following things:\n",
    "\n",
    "- Change the array nums such that the first k elements of nums contain the elements which are not equal to val. The remaining elements of nums are not important as well as the size of nums.\n",
    "- Return k.\n",
    " \n",
    "**Custom Judge:**\n",
    "```\n",
    "The judge will test your solution with the following code:\n",
    "int[] nums = [...]; // Input array\n",
    "int val = ...; // Value to remove\n",
    "int[] expectedNums = [...]; // The expected answer with correct length.\n",
    "                            // It is sorted with no values equaling val.\n",
    "int k = removeElement(nums, val); // Calls your implementation\n",
    "assert k == expectedNums.length;\n",
    "sort(nums, 0, k); // Sort the first k elements of nums \n",
    "for (int i = 0; i < actualLength; i++) {\n",
    "    assert nums[i] == expectedNums[i];\n",
    "}\n",
    "```\n",
    "If all assertions pass, then your solution will be accepted.\n",
    "\n",
    "\n",
    "**Example:**\n",
    "\n",
    "- Input: nums = [0,1,2,2,3,0,4,2], val = 2\n",
    "- Output: 5, nums = [0,1,4,0,3,_,_,_]\n",
    "- Explanation: Your function should return k = 5, with the first five elements of nums containing 0, 0, 1, 3, and 4.\n",
    "Note that the five elements can be returned in any order.\n",
    "It does not matter what you leave beyond the returned k (hence they are underscores).\n",
    " \n",
    "\n",
    "**Constraints:**\n",
    "\n",
    "- 0 <= nums.length <= 100\n",
    "- 0 <= nums[i] <= 50\n",
    "- 0 <= val <= 100"
   ]
  },
  {
   "cell_type": "markdown",
   "id": "95beafdf",
   "metadata": {},
   "source": [
    "---\n",
    "\n",
    "#### Solution 1\n",
    "\n",
    "The two pointer solution used on \"Remove Duplicates\" problem is usefull here, with some modifications!"
   ]
  },
  {
   "cell_type": "code",
   "execution_count": null,
   "id": "4744d988",
   "metadata": {},
   "outputs": [
    {
     "name": "stdout",
     "output_type": "stream",
     "text": [
      "[1, 1, 3, 4, 4, 3, 4, 4]\n",
      "k = 5, nums = [1, 1, 3, 4, 4, 3, 4, 4]\n"
     ]
    }
   ],
   "source": [
    "def RemovElemen(nums, target):\n",
    "    if not nums:          #Empty\n",
    "        return 0\n",
    "    last_new_number = 0   #Last seen new number position\n",
    "    current = 0           #Check first num, and scanning pointer\n",
    "    \n",
    "    while current < len(nums):\n",
    "        if nums[current] != target:                 #Case 1: Next is a new num\n",
    "            nums[last_new_number] = nums[current]   #Swap: read with last position\n",
    "            last_new_number += 1                    #Found one more num, increment\n",
    "        current += 1                                #Move scanning pointer\n",
    "    return last_new_number                       \n",
    "\n",
    "nums = [1, 1, 2, 2, 2, 3, 4, 4]\n",
    "target = 2\n",
    "result = RemovElemen(nums, target)\n",
    "print(nums)\n",
    "print(f\"k = {result}, nums = {nums}\")"
   ]
  },
  {
   "cell_type": "markdown",
   "id": "052db264",
   "metadata": {},
   "source": [
    "---\n",
    "\n",
    "---\n",
    "\n"
   ]
  }
 ],
 "metadata": {
  "kernelspec": {
   "display_name": "Python 3",
   "language": "python",
   "name": "python3"
  },
  "language_info": {
   "codemirror_mode": {
    "name": "ipython",
    "version": 3
   },
   "file_extension": ".py",
   "mimetype": "text/x-python",
   "name": "python",
   "nbconvert_exporter": "python",
   "pygments_lexer": "ipython3",
   "version": "3.13.5"
  }
 },
 "nbformat": 4,
 "nbformat_minor": 5
}
