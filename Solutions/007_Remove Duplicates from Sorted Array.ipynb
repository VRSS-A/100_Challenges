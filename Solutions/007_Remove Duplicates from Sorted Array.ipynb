{
 "cells": [
  {
   "cell_type": "markdown",
   "id": "45907282",
   "metadata": {},
   "source": [
    "---\n",
    "\n",
    "---\n",
    "\n",
    "# [006] Merge Two Sorted Lists\n",
    "-> *https://leetcode.com/problems/remove-duplicates-from-sorted-array/description/*\n",
    "\n",
    "Given an integer array nums sorted in non-decreasing order, remove the duplicates in-place such that each unique element appears only once. The relative order of the elements should be kept the same. Then return the number of unique elements in nums.\n",
    "\n",
    "Consider the number of unique elements of nums to be k, to get accepted, you need to do the following things:\n",
    "\n",
    "- Change the array nums such that the first k elements of nums contain the unique elements in the order they were present in nums initially. The remaining elements of nums are not important as well as the size of nums.\n",
    "- Return k.\n",
    " \n",
    " **Custom Judge:**\n",
    "\n",
    "The judge will test your solution with the following code:\n",
    "```\n",
    "int[] nums = [...]; // Input array\n",
    "int[] expectedNums = [...]; // The expected answer with correct length\n",
    "int k = removeDuplicates(nums); // Calls your implementation\n",
    "assert k == expectedNums.length;\n",
    "for (int i = 0; i < k; i++) {\n",
    "    assert nums[i] == expectedNums[i];\n",
    "}\n",
    "```\n",
    "If all assertions pass, then your solution will be accepted.\n",
    "\n",
    "**Example:**\n",
    "\n",
    "- Input: nums = [1,1,2]\n",
    "- Output: 2, nums = [1,2,_]\n",
    "- Explanation: Your function should return k = 2, with the first two elements of nums being 1 and 2 respectively.\n",
    "It does not matter what you leave beyond the returned k (hence they are underscores).\n",
    "\n",
    "**Constraints:**\n",
    "\n",
    "- 1 <= nums.length <= 3 * $10^4$\n",
    "- -100 <= nums[i] <= 100\n",
    "- nums is sorted in non-decreasing order."
   ]
  },
  {
   "cell_type": "markdown",
   "id": "95beafdf",
   "metadata": {},
   "source": [
    "---\n",
    "\n",
    "#### Solution\n",
    "\n",
    "Prefix, as the name suggests, are the inicial parts (or radicals) withing the words! Therefor, it's a matter of comparing every word's beginning simultaneously:"
   ]
  },
  {
   "cell_type": "markdown",
   "id": "e8f0281d",
   "metadata": {},
   "source": [
    "#### Solution: Using Your 3-Case Logic\n",
    "\n",
    "Your logic applies perfectly! We'll implement both array and linked list versions to show how the same logic works for both data structures."
   ]
  },
  {
   "cell_type": "code",
   "execution_count": null,
   "id": "bf7aeb6d",
   "metadata": {},
   "outputs": [
    {
     "name": "stdout",
     "output_type": "stream",
     "text": [
      "[1, 2, 3, 4, 2, 3, 4, 4]\n",
      "k = 4, nums = [1, 2, 3, 4]\n"
     ]
    }
   ],
   "source": [
    "def RemovDuplicates(nums):\n",
    "    if not nums:          #Empty\n",
    "        return 0\n",
    "    last_new_number = 0   #First Element, and first apparison of a unique number\n",
    "    current = 1           #Second Element, and scanning pointer\n",
    "    \n",
    "    while current < len(nums):\n",
    "        if nums[current] != nums[last_new_number]:  #Case 1: Next is a new num\n",
    "            last_new_number += 1           \n",
    "            nums[last_new_number] = nums[current]   #Place the unique element\n",
    "                                                    #Case 2: Copy found, just skip it\n",
    "        current += 1                                #Move scanning pointer\n",
    "    return last_new_number + 1                      #Case 3: End of array\n",
    "\n",
    "nums = [1, 1, 2, 2, 2, 3, 4, 4]\n",
    "result = RemovDuplicates(nums)\n",
    "print(nums)\n",
    "print(f\"k = {result}, nums = {nums[:result]}\")"
   ]
  },
  {
   "cell_type": "markdown",
   "id": "052db264",
   "metadata": {},
   "source": [
    "---\n",
    "\n",
    "---\n",
    "\n"
   ]
  }
 ],
 "metadata": {
  "kernelspec": {
   "display_name": "Python 3",
   "language": "python",
   "name": "python3"
  },
  "language_info": {
   "codemirror_mode": {
    "name": "ipython",
    "version": 3
   },
   "file_extension": ".py",
   "mimetype": "text/x-python",
   "name": "python",
   "nbconvert_exporter": "python",
   "pygments_lexer": "ipython3",
   "version": "3.13.5"
  }
 },
 "nbformat": 4,
 "nbformat_minor": 5
}
