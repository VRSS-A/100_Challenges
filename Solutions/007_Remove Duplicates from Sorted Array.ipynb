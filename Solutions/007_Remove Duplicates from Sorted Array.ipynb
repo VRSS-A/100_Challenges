{
 "cells": [
  {
   "cell_type": "markdown",
   "id": "45907282",
   "metadata": {},
   "source": [
    "---\n",
    "\n",
    "---\n",
    "\n",
    "# [006] Merge Two Sorted Lists\n",
    "-> *https://leetcode.com/problems/remove-duplicates-from-sorted-array/description/*\n",
    "\n",
    "Given an integer array nums sorted in non-decreasing order, remove the duplicates in-place such that each unique element appears only once. The relative order of the elements should be kept the same. Then return the number of unique elements in nums.\n",
    "\n",
    "Consider the number of unique elements of nums to be k, to get accepted, you need to do the following things:\n",
    "\n",
    "- Change the array nums such that the first k elements of nums contain the unique elements in the order they were present in nums initially. The remaining elements of nums are not important as well as the size of nums.\n",
    "- Return k.\n",
    " \n",
    " **Custom Judge:**\n",
    "\n",
    "The judge will test your solution with the following code:\n",
    "\n",
    "int[] nums = [...]; // Input array\n",
    "int[] expectedNums = [...]; // The expected answer with correct length\n",
    "\n",
    "int k = removeDuplicates(nums); // Calls your implementation\n",
    "\n",
    "assert k == expectedNums.length;\n",
    "for (int i = 0; i < k; i++) {\n",
    "    assert nums[i] == expectedNums[i];\n",
    "}\n",
    "\n",
    "If all assertions pass, then your solution will be accepted.\n",
    "\n",
    "**Example:**\n",
    "\n",
    "- Input: nums = [1,1,2]\n",
    "- Output: 2, nums = [1,2,_]\n",
    "- Explanation: Your function should return k = 2, with the first two elements of nums being 1 and 2 respectively.\n",
    "It does not matter what you leave beyond the returned k (hence they are underscores).\n",
    "\n",
    "**Constraints:**\n",
    "\n",
    "- 1 <= nums.length <= 3 * $10^4$\n",
    "- -100 <= nums[i] <= 100\n",
    "- nums is sorted in non-decreasing order."
   ]
  },
  {
   "cell_type": "markdown",
   "id": "95beafdf",
   "metadata": {},
   "source": [
    "---\n",
    "\n",
    "#### Solution 1\n",
    "\n",
    "Prefix, as the name suggests, are the inicial parts (or radicals) withing the words! Therefor, it's a matter of comparing every word's beginning simultaneously:"
   ]
  },
  {
   "cell_type": "code",
   "execution_count": 8,
   "id": "4744d988",
   "metadata": {},
   "outputs": [
    {
     "name": "stdout",
     "output_type": "stream",
     "text": [
      "Longest prefix: 'fl'\n"
     ]
    }
   ],
   "source": [
    "strs = [\"flower\",\"flow\",\"flight\"]\n",
    "prefix = \"\"\n",
    "\n",
    "for i in range(min(len(s) for s in strs)):                          #i for each character index\n",
    "    reference_char = strs[0][i]                                     #First word, first character for comparison   \n",
    "    if all(strs[j][i] == reference_char for j in range(len(strs))): #j for each word. Therefor compare j words at i character\n",
    "        prefix += reference_char                                    #Add to prefix\n",
    "    else:\n",
    "        break                                                       #Missmatch  \n",
    "        \n",
    "print(f\"Longest prefix: '{prefix}'\")\n",
    "\n",
    "#Usage of \"all\"\n",
    "#all(True, True, True)  → True, cause all are True\n",
    "#all(True, True, False) → False, cause at least one is False"
   ]
  },
  {
   "cell_type": "markdown",
   "id": "052db264",
   "metadata": {},
   "source": [
    "---\n",
    "\n",
    "---\n",
    "\n"
   ]
  }
 ],
 "metadata": {
  "kernelspec": {
   "display_name": "Python 3",
   "language": "python",
   "name": "python3"
  },
  "language_info": {
   "codemirror_mode": {
    "name": "ipython",
    "version": 3
   },
   "file_extension": ".py",
   "mimetype": "text/x-python",
   "name": "python",
   "nbconvert_exporter": "python",
   "pygments_lexer": "ipython3",
   "version": "3.13.5"
  }
 },
 "nbformat": 4,
 "nbformat_minor": 5
}
