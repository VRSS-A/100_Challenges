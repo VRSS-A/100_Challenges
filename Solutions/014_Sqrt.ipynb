{
 "cells": [
  {
   "cell_type": "markdown",
   "id": "45907282",
   "metadata": {},
   "source": [
    "---\n",
    "\n",
    "---\n",
    "\n",
    "# [014] Sqrt(x)\n",
    "-> *https://leetcode.com/problems/sqrtx/*\n",
    "\n",
    "Given a non-negative integer x, return the square root of x rounded down to the nearest integer. The returned integer should be non-negative as well.\n",
    "\n",
    "You must not use any built-in exponent function or operator.\n",
    "\n",
    "- For example, do not use pow(x, 0.5) in c++ or x ** 0.5 in python.\n",
    "\n",
    "**Example:**\n",
    "\n",
    "- Input: x = 8\n",
    "- Output: 2\n",
    "- Explanation: The square root of 8 is 2.82842..., and since we round it down to the nearest integer, 2 is returned.\n",
    " \n",
    "\n",
    "**Constraints:**\n",
    "\n",
    "- 0 <= x <= 231 - 1"
   ]
  },
  {
   "cell_type": "markdown",
   "id": "95beafdf",
   "metadata": {},
   "source": [
    "---\n",
    "\n",
    "#### Solution\n",
    "\n",
    "We trivially just nee to do (current int * current int) >= input. When it exceeds it, we take the previous int and done!"
   ]
  },
  {
   "cell_type": "code",
   "execution_count": 2,
   "id": "4744d988",
   "metadata": {},
   "outputs": [
    {
     "name": "stdout",
     "output_type": "stream",
     "text": [
      "2\n"
     ]
    }
   ],
   "source": [
    "def SqrVersionOne(x):\n",
    "    if x == 0:\n",
    "        return 0\n",
    "    \n",
    "    for i in range(1, x + 1):\n",
    "        if i * i > x:      #Beyond\n",
    "            return i - 1   #Previous\n",
    "        if i * i == x:     #True square\n",
    "            return i\n",
    "        \n",
    "print(SqrVersionOne(8))"
   ]
  },
  {
   "cell_type": "markdown",
   "id": "ae935e00",
   "metadata": {},
   "source": [
    "It can be improved by using binary search!"
   ]
  },
  {
   "cell_type": "code",
   "execution_count": 3,
   "id": "db3c53b3",
   "metadata": {},
   "outputs": [
    {
     "name": "stdout",
     "output_type": "stream",
     "text": [
      "Length of last word: 4\n"
     ]
    }
   ],
   "source": [
    "def LengthLastWord(s):\n",
    "    word_length = 0\n",
    "    i = 0\n",
    "    while i < len(s):\n",
    "        if s[i] != ' ':                       #Character\n",
    "            current_word_length = 0           #Reset counter\n",
    "            while i < len(s) and s[i] != ' ': \n",
    "                current_word_length += 1\n",
    "                i += 1\n",
    "            word_length = current_word_length #In case it's over\n",
    "        else:                                 #Space\n",
    "            i += 1                            #Skip\n",
    "    return word_length\n",
    "\n",
    "s = \"   fly me   to   the moon  \"\n",
    "result = LengthLastWord(s)\n",
    "print(f\"Length of last word: {result}\")"
   ]
  },
  {
   "cell_type": "markdown",
   "id": "356a027c",
   "metadata": {},
   "source": [
    "Extra: And, if we want to find the decimals within a certain error margin, it's possible to:"
   ]
  },
  {
   "cell_type": "code",
   "execution_count": null,
   "id": "d56abfa3",
   "metadata": {},
   "outputs": [],
   "source": []
  },
  {
   "cell_type": "markdown",
   "id": "052db264",
   "metadata": {},
   "source": [
    "---\n",
    "\n",
    "---\n",
    "\n"
   ]
  }
 ],
 "metadata": {
  "kernelspec": {
   "display_name": "Python 3",
   "language": "python",
   "name": "python3"
  },
  "language_info": {
   "codemirror_mode": {
    "name": "ipython",
    "version": 3
   },
   "file_extension": ".py",
   "mimetype": "text/x-python",
   "name": "python",
   "nbconvert_exporter": "python",
   "pygments_lexer": "ipython3",
   "version": "3.13.5"
  }
 },
 "nbformat": 4,
 "nbformat_minor": 5
}
