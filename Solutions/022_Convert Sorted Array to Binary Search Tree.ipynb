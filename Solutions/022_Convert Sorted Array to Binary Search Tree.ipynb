{
 "cells": [
  {
   "cell_type": "markdown",
   "id": "45907282",
   "metadata": {},
   "source": [
    "---\n",
    "\n",
    "---\n",
    "\n",
    "# [022] Convert Sorted Array to Binary Search Tree\n",
    "-> *https://leetcode.com/problems/convert-sorted-array-to-binary-search-tree/description/*\n",
    "\n",
    "Given an integer array nums where the elements are sorted in ascending order, convert it to a height-balanced binary search tree.\n",
    "\n",
    "**Example:**\n",
    "\n",
    "- Input: nums = [-10,-3,0,5,9]\n",
    "- Output: [0,-3,9,-10,null,5]\n",
    "- Observation: Explanation: [0,-10,5,null,-3,null,9] is also accepted\n",
    "\n",
    "**Constraints:**\n",
    "\n",
    "- The number of nodes in the tree is in the range [1, 1000].\n",
    "- -100 <= Node.val <= 100"
   ]
  },
  {
   "cell_type": "markdown",
   "id": "95beafdf",
   "metadata": {},
   "source": [
    "---\n",
    "\n",
    "#### Solution 1\n",
    "\n",
    "First, it's possible (and easier) to use Python built-in string splitter! Second, a manual approach is usefull for in depth study of the problem!"
   ]
  },
  {
   "cell_type": "code",
   "execution_count": null,
   "id": "4744d988",
   "metadata": {},
   "outputs": [
    {
     "name": "stdout",
     "output_type": "stream",
     "text": [
      "Length of last word: 4\n"
     ]
    }
   ],
   "source": [
    "def lengthOfLastWord(s):\n",
    "    words = s.split()      #Split: whitespace/remove empty strings\n",
    "    return len(words[-1]) \n",
    "\n",
    "s = \"   fly me   to   the moon  \"\n",
    "result = lengthOfLastWord(s)\n",
    "print(f\"Length of last word: {result}\")"
   ]
  },
  {
   "cell_type": "code",
   "execution_count": 3,
   "id": "db3c53b3",
   "metadata": {},
   "outputs": [
    {
     "name": "stdout",
     "output_type": "stream",
     "text": [
      "Length of last word: 4\n"
     ]
    }
   ],
   "source": [
    "def LengthLastWord(s):\n",
    "    word_length = 0\n",
    "    i = 0\n",
    "    while i < len(s):\n",
    "        if s[i] != ' ':                       #Character\n",
    "            current_word_length = 0           #Reset counter\n",
    "            while i < len(s) and s[i] != ' ': \n",
    "                current_word_length += 1\n",
    "                i += 1\n",
    "            word_length = current_word_length #In case it's over\n",
    "        else:                                 #Space\n",
    "            i += 1                            #Skip\n",
    "    return word_length\n",
    "\n",
    "s = \"   fly me   to   the moon  \"\n",
    "result = LengthLastWord(s)\n",
    "print(f\"Length of last word: {result}\")"
   ]
  },
  {
   "cell_type": "markdown",
   "id": "052db264",
   "metadata": {},
   "source": [
    "---\n",
    "\n",
    "---\n",
    "\n"
   ]
  }
 ],
 "metadata": {
  "kernelspec": {
   "display_name": "Python 3",
   "language": "python",
   "name": "python3"
  },
  "language_info": {
   "codemirror_mode": {
    "name": "ipython",
    "version": 3
   },
   "file_extension": ".py",
   "mimetype": "text/x-python",
   "name": "python",
   "nbconvert_exporter": "python",
   "pygments_lexer": "ipython3",
   "version": "3.13.5"
  }
 },
 "nbformat": 4,
 "nbformat_minor": 5
}
