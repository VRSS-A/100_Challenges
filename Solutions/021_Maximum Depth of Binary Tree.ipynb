{
 "cells": [
  {
   "cell_type": "markdown",
   "id": "45907282",
   "metadata": {},
   "source": [
    "---\n",
    "\n",
    "---\n",
    "\n",
    "# [021] Maximum Depth of Binary Tree\n",
    "-> *https://leetcode.com/problems/maximum-depth-of-binary-tree/description/*\n",
    "\n",
    "Given the root of a binary tree, return its maximum depth.\n",
    "\n",
    "A binary tree's maximum depth is the number of nodes along the longest path from the root node down to the farthest leaf node.\n",
    "\n",
    "**Example:**\n",
    "\n",
    "- Input: root = [3,9,20,null,null,15,7]\n",
    "- Output: 3\n",
    "\n",
    "**Constraints:**\n",
    "\n",
    "- The number of nodes in the tree is in the range [1, 1000].\n",
    "- -100 <= Node.val <= 100"
   ]
  },
  {
   "cell_type": "markdown",
   "id": "95beafdf",
   "metadata": {},
   "source": [
    "---\n",
    "\n",
    "#### Solution 1\n",
    "\n",
    "First, it's possible (and easier) to use Python built-in string splitter! Second, a manual approach is usefull for in depth study of the problem!"
   ]
  },
  {
   "cell_type": "code",
   "execution_count": null,
   "id": "4744d988",
   "metadata": {},
   "outputs": [
    {
     "name": "stdout",
     "output_type": "stream",
     "text": [
      "Length of last word: 4\n"
     ]
    }
   ],
   "source": [
    "def lengthOfLastWord(s):\n",
    "    words = s.split()      #Split: whitespace/remove empty strings\n",
    "    return len(words[-1]) \n",
    "\n",
    "s = \"   fly me   to   the moon  \"\n",
    "result = lengthOfLastWord(s)\n",
    "print(f\"Length of last word: {result}\")"
   ]
  },
  {
   "cell_type": "code",
   "execution_count": 3,
   "id": "db3c53b3",
   "metadata": {},
   "outputs": [
    {
     "name": "stdout",
     "output_type": "stream",
     "text": [
      "Length of last word: 4\n"
     ]
    }
   ],
   "source": [
    "def LengthLastWord(s):\n",
    "    word_length = 0\n",
    "    i = 0\n",
    "    while i < len(s):\n",
    "        if s[i] != ' ':                       #Character\n",
    "            current_word_length = 0           #Reset counter\n",
    "            while i < len(s) and s[i] != ' ': \n",
    "                current_word_length += 1\n",
    "                i += 1\n",
    "            word_length = current_word_length #In case it's over\n",
    "        else:                                 #Space\n",
    "            i += 1                            #Skip\n",
    "    return word_length\n",
    "\n",
    "s = \"   fly me   to   the moon  \"\n",
    "result = LengthLastWord(s)\n",
    "print(f\"Length of last word: {result}\")"
   ]
  },
  {
   "cell_type": "markdown",
   "id": "052db264",
   "metadata": {},
   "source": [
    "---\n",
    "\n",
    "---\n",
    "\n"
   ]
  }
 ],
 "metadata": {
  "kernelspec": {
   "display_name": "Python 3",
   "language": "python",
   "name": "python3"
  },
  "language_info": {
   "codemirror_mode": {
    "name": "ipython",
    "version": 3
   },
   "file_extension": ".py",
   "mimetype": "text/x-python",
   "name": "python",
   "nbconvert_exporter": "python",
   "pygments_lexer": "ipython3",
   "version": "3.13.5"
  }
 },
 "nbformat": 4,
 "nbformat_minor": 5
}
