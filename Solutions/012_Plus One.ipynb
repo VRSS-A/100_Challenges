{
 "cells": [
  {
   "cell_type": "markdown",
   "id": "45907282",
   "metadata": {},
   "source": [
    "---\n",
    "\n",
    "---\n",
    "\n",
    "# [012] Plus One\n",
    "-> *https://leetcode.com/problems/plus-one/description/*\n",
    "\n",
    "You are given a large integer represented as an integer array digits, where each digits[i] is the ith digit of the integer. The digits are ordered from most significant to least significant in left-to-right order. The large integer does not contain any leading 0's.\n",
    "\n",
    "Increment the large integer by one and return the resulting array of digits.\n",
    "\n",
    "**Example:**\n",
    "\n",
    "- Input: digits = [4,3,2,1]\n",
    "- Output: [4,3,2,2]\n",
    "- Explanation: The array represents the integer 4321.\n",
    "    Incrementing by one gives 4321 + 1 = 4322.\n",
    "    Thus, the result should be [4,3,2,2].\n",
    " \n",
    "\n",
    "**Constraints:**\n",
    "\n",
    "- 1 <= digits.length <= 100\n",
    "- 0 <= digits[i] <= 9\n",
    "- digits does not contain any leading 0's."
   ]
  },
  {
   "cell_type": "markdown",
   "id": "95beafdf",
   "metadata": {},
   "source": [
    "---\n",
    "\n",
    "#### Solution 1\n",
    "\n",
    "First, it's possible (and easier) to use Python built-in string splitter! Second, a manual approach is usefull for in depth study of the problem!"
   ]
  },
  {
   "cell_type": "code",
   "execution_count": null,
   "id": "4744d988",
   "metadata": {},
   "outputs": [
    {
     "name": "stdout",
     "output_type": "stream",
     "text": [
      "Length of last word: 4\n"
     ]
    }
   ],
   "source": [
    "def lengthOfLastWord(s):\n",
    "    words = s.split()      #Split: whitespace/remove empty strings\n",
    "    return len(words[-1]) \n",
    "\n",
    "s = \"   fly me   to   the moon  \"\n",
    "result = lengthOfLastWord(s)\n",
    "print(f\"Length of last word: {result}\")"
   ]
  },
  {
   "cell_type": "code",
   "execution_count": 3,
   "id": "db3c53b3",
   "metadata": {},
   "outputs": [
    {
     "name": "stdout",
     "output_type": "stream",
     "text": [
      "Length of last word: 4\n"
     ]
    }
   ],
   "source": [
    "def LengthLastWord(s):\n",
    "    word_length = 0\n",
    "    i = 0\n",
    "    while i < len(s):\n",
    "        if s[i] != ' ':                       #Character\n",
    "            current_word_length = 0           #Reset counter\n",
    "            while i < len(s) and s[i] != ' ': \n",
    "                current_word_length += 1\n",
    "                i += 1\n",
    "            word_length = current_word_length #In case it's over\n",
    "        else:                                 #Space\n",
    "            i += 1                            #Skip\n",
    "    return word_length\n",
    "\n",
    "s = \"   fly me   to   the moon  \"\n",
    "result = LengthLastWord(s)\n",
    "print(f\"Length of last word: {result}\")"
   ]
  },
  {
   "cell_type": "markdown",
   "id": "052db264",
   "metadata": {},
   "source": [
    "---\n",
    "\n",
    "---\n",
    "\n"
   ]
  }
 ],
 "metadata": {
  "kernelspec": {
   "display_name": "Python 3",
   "language": "python",
   "name": "python3"
  },
  "language_info": {
   "codemirror_mode": {
    "name": "ipython",
    "version": 3
   },
   "file_extension": ".py",
   "mimetype": "text/x-python",
   "name": "python",
   "nbconvert_exporter": "python",
   "pygments_lexer": "ipython3",
   "version": "3.13.5"
  }
 },
 "nbformat": 4,
 "nbformat_minor": 5
}
