{
 "cells": [
  {
   "cell_type": "markdown",
   "id": "45907282",
   "metadata": {},
   "source": [
    "---\n",
    "\n",
    "---\n",
    "\n",
    "# [012] Plus One\n",
    "-> *https://leetcode.com/problems/plus-one/description/*\n",
    "\n",
    "You are given a large integer represented as an integer array digits, where each digits[i] is the ith digit of the integer. The digits are ordered from most significant to least significant in left-to-right order. The large integer does not contain any leading 0's.\n",
    "\n",
    "Increment the large integer by one and return the resulting array of digits.\n",
    "\n",
    "**Example:**\n",
    "\n",
    "- Input: digits = [4,3,2,1]\n",
    "- Output: [4,3,2,2]\n",
    "- Explanation: The array represents the integer 4321.\n",
    "    Incrementing by one gives 4321 + 1 = 4322.\n",
    "    Thus, the result should be [4,3,2,2].\n",
    " \n",
    "\n",
    "**Constraints:**\n",
    "\n",
    "- 1 <= digits.length <= 100\n",
    "- 0 <= digits[i] <= 9\n",
    "- digits does not contain any leading 0's."
   ]
  },
  {
   "cell_type": "markdown",
   "id": "95beafdf",
   "metadata": {},
   "source": [
    "---\n",
    "\n",
    "#### Solution 1\n",
    "\n",
    "Looking at the problem, it's possible to go backwards trought the array and increase the present number by 1, checking for edge cases like 9 or full 9's array."
   ]
  },
  {
   "cell_type": "code",
   "execution_count": null,
   "id": "4744d988",
   "metadata": {},
   "outputs": [
    {
     "name": "stdout",
     "output_type": "stream",
     "text": [
      "[4, 3, 2, 2]\n"
     ]
    }
   ],
   "source": [
    "def PlusOne(digits):\n",
    "    length = len(digits)\n",
    "    pointer = length - 1    #Backwars pointer\n",
    "    finish = 0              #Ending flag\n",
    "    \n",
    "    while finish == 0:\n",
    "        if pointer < 0:\n",
    "            digits.insert(0, 1)  #In case of all 9s\n",
    "            break\n",
    "        if digits[pointer] < 9:  #Trivial addition\n",
    "            digits[pointer] += 1\n",
    "            finish = 1\n",
    "        else:                    #9\n",
    "            digits[pointer] = 0\n",
    "            pointer -= 1\n",
    "    return digits\n",
    "\n",
    "digits = [4,3,2,1]\n",
    "PlusOne(digits)\n",
    "print(digits)"
   ]
  },
  {
   "cell_type": "markdown",
   "id": "97e337f8",
   "metadata": {},
   "source": [
    "It can be optimized by removing the flag with some aproaches, as follows:"
   ]
  },
  {
   "cell_type": "code",
   "execution_count": null,
   "id": "db3c53b3",
   "metadata": {},
   "outputs": [],
   "source": [
    "def PlusOne(digits):               #Early return\n",
    "    pointer = len(digits) - 1\n",
    "    \n",
    "    while pointer >= 0:\n",
    "        if digits[pointer] < 9:\n",
    "            digits[pointer] += 1\n",
    "            return digits          #Early return -> trivial addition\n",
    "        else:\n",
    "            digits[pointer] = 0    #9\n",
    "            pointer -= 1\n",
    "    return [1] + [0] * len(digits) #Pointer <0, 9s case\n",
    "\n",
    "def PlusOneR(digits):              #Reverse iteration\n",
    "    for i in range(len(digits) - 1, -1, -1):\n",
    "        if digits[i] < 9:\n",
    "            digits[i] += 1\n",
    "            return digits\n",
    "        digits[i] = 0              #9\n",
    "    return [1] + [0] * len(digits) #Pointer <0, 9s case"
   ]
  },
  {
   "cell_type": "markdown",
   "id": "052db264",
   "metadata": {},
   "source": [
    "---\n",
    "\n",
    "---\n",
    "\n"
   ]
  }
 ],
 "metadata": {
  "kernelspec": {
   "display_name": "Python 3",
   "language": "python",
   "name": "python3"
  },
  "language_info": {
   "codemirror_mode": {
    "name": "ipython",
    "version": 3
   },
   "file_extension": ".py",
   "mimetype": "text/x-python",
   "name": "python",
   "nbconvert_exporter": "python",
   "pygments_lexer": "ipython3",
   "version": "3.13.5"
  }
 },
 "nbformat": 4,
 "nbformat_minor": 5
}
