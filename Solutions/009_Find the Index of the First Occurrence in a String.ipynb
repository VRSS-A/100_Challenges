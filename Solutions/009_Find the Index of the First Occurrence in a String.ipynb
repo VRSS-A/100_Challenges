{
 "cells": [
  {
   "cell_type": "markdown",
   "id": "45907282",
   "metadata": {},
   "source": [
    "---\n",
    "\n",
    "---\n",
    "\n",
    "# [009] Find the Index of the First Occurrence in a String\n",
    "-> *https://leetcode.com/problems/find-the-index-of-the-first-occurrence-in-a-string/*\n",
    "\n",
    "Given two strings needle and haystack, return the index of the first occurrence of needle in haystack, or -1 if needle is not part of haystack.\n",
    "\n",
    "\n",
    "**Example:**\n",
    "\n",
    "- Input: haystack = \"sadbutsad\", needle = \"sad\"\n",
    "- Output: 0\n",
    "- Explanation: \"sad\" occurs at index 0 and 6.\n",
    "The first occurrence is at index 0, so we return 0.\n",
    " \n",
    "\n",
    "**Constraints:**\n",
    "\n",
    "- 1 <= haystack.length, needle.length <= $10^4$\n",
    "- haystack and needle consist of only lowercase English characters."
   ]
  },
  {
   "cell_type": "markdown",
   "id": "95beafdf",
   "metadata": {},
   "source": [
    "---\n",
    "\n",
    "#### Solution\n",
    "\n",
    "Python has the build-in function that does this. The string.find(substring, start, end). Ain't this cheating?"
   ]
  },
  {
   "cell_type": "code",
   "execution_count": 2,
   "id": "4744d988",
   "metadata": {},
   "outputs": [
    {
     "name": "stdout",
     "output_type": "stream",
     "text": [
      "5\n"
     ]
    }
   ],
   "source": [
    "haystack = \"ILoveYouMoreThanYouImagine\"\n",
    "needle = \"You\"\n",
    "\n",
    "position = haystack.find(needle)\n",
    "print(position)"
   ]
  },
  {
   "cell_type": "markdown",
   "id": "b886fbe4",
   "metadata": {},
   "source": [
    "A manual solution:\n"
   ]
  },
  {
   "cell_type": "code",
   "execution_count": null,
   "id": "78394f4a",
   "metadata": {},
   "outputs": [
    {
     "name": "stdout",
     "output_type": "stream",
     "text": [
      "Index: 5\n"
     ]
    }
   ],
   "source": [
    "def NeedleFinder(haystack, needle):\n",
    "    if not needle:  #Empty needle\n",
    "        return -1\n",
    "    needle_len = len(needle)\n",
    "    haystack_len = len(haystack)\n",
    "    \n",
    "    for i in range(haystack_len - needle_len + 1):  #Enought space for needle\n",
    "        if haystack[i] == needle[0]:                #First letter of needle found\n",
    "            match = True                            #Flag\n",
    "            for j in range(needle_len):             #Other letters of needle\n",
    "                if haystack[i + j] != needle[j]:\n",
    "                    match = False\n",
    "                    break\n",
    "            if match:                               #Match = true => Done\n",
    "                return i\n",
    "    return -1                                       #Not found\n",
    "\n",
    "haystack = \"ILoveYouMoreThanYouImagine\"\n",
    "needle = \"You\"\n",
    "result = NeedleFinder(haystack, needle)\n",
    "print(f\"Index: {result}\")"
   ]
  },
  {
   "cell_type": "markdown",
   "id": "052db264",
   "metadata": {},
   "source": [
    "---\n",
    "\n",
    "---\n",
    "\n"
   ]
  }
 ],
 "metadata": {
  "kernelspec": {
   "display_name": "Python 3",
   "language": "python",
   "name": "python3"
  },
  "language_info": {
   "codemirror_mode": {
    "name": "ipython",
    "version": 3
   },
   "file_extension": ".py",
   "mimetype": "text/x-python",
   "name": "python",
   "nbconvert_exporter": "python",
   "pygments_lexer": "ipython3",
   "version": "3.13.5"
  }
 },
 "nbformat": 4,
 "nbformat_minor": 5
}
