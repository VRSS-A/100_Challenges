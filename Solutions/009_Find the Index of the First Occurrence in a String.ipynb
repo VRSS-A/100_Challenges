{
 "cells": [
  {
   "cell_type": "markdown",
   "id": "45907282",
   "metadata": {},
   "source": [
    "---\n",
    "\n",
    "---\n",
    "\n",
    "# [009] Find the Index of the First Occurrence in a String\n",
    "-> *https://leetcode.com/problems/find-the-index-of-the-first-occurrence-in-a-string/*\n",
    "\n",
    "Given two strings needle and haystack, return the index of the first occurrence of needle in haystack, or -1 if needle is not part of haystack.\n",
    "\n",
    "\n",
    "**Example:**\n",
    "\n",
    "- Input: haystack = \"sadbutsad\", needle = \"sad\"\n",
    "- Output: 0\n",
    "- Explanation: \"sad\" occurs at index 0 and 6.\n",
    "The first occurrence is at index 0, so we return 0.\n",
    " \n",
    "\n",
    "**Constraints:**\n",
    "\n",
    "- 1 <= haystack.length, needle.length <= $10^4$\n",
    "- haystack and needle consist of only lowercase English characters."
   ]
  },
  {
   "cell_type": "markdown",
   "id": "95beafdf",
   "metadata": {},
   "source": [
    "---\n",
    "\n",
    "#### Solution 1\n",
    "\n",
    "Prefix, as the name suggests, are the inicial parts (or radicals) withing the words! Therefor, it's a matter of comparing every word's beginning simultaneously:"
   ]
  },
  {
   "cell_type": "code",
   "execution_count": 8,
   "id": "4744d988",
   "metadata": {},
   "outputs": [
    {
     "name": "stdout",
     "output_type": "stream",
     "text": [
      "Longest prefix: 'fl'\n"
     ]
    }
   ],
   "source": [
    "strs = [\"flower\",\"flow\",\"flight\"]\n",
    "prefix = \"\"\n",
    "\n",
    "for i in range(min(len(s) for s in strs)):                          #i for each character index\n",
    "    reference_char = strs[0][i]                                     #First word, first character for comparison   \n",
    "    if all(strs[j][i] == reference_char for j in range(len(strs))): #j for each word. Therefor compare j words at i character\n",
    "        prefix += reference_char                                    #Add to prefix\n",
    "    else:\n",
    "        break                                                       #Missmatch  \n",
    "        \n",
    "print(f\"Longest prefix: '{prefix}'\")\n",
    "\n",
    "#Usage of \"all\"\n",
    "#all(True, True, True)  → True, cause all are True\n",
    "#all(True, True, False) → False, cause at least one is False"
   ]
  },
  {
   "cell_type": "markdown",
   "id": "052db264",
   "metadata": {},
   "source": [
    "---\n",
    "\n",
    "---\n",
    "\n"
   ]
  }
 ],
 "metadata": {
  "kernelspec": {
   "display_name": "Python 3",
   "language": "python",
   "name": "python3"
  },
  "language_info": {
   "codemirror_mode": {
    "name": "ipython",
    "version": 3
   },
   "file_extension": ".py",
   "mimetype": "text/x-python",
   "name": "python",
   "nbconvert_exporter": "python",
   "pygments_lexer": "ipython3",
   "version": "3.13.5"
  }
 },
 "nbformat": 4,
 "nbformat_minor": 5
}
