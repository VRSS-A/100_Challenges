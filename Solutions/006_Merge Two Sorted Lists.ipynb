{
 "cells": [
  {
   "cell_type": "markdown",
   "id": "45907282",
   "metadata": {},
   "source": [
    "---\n",
    "\n",
    "---\n",
    "\n",
    "# [006] Merge Two Sorted Lists\n",
    "-> *https://leetcode.com/problems/merge-two-sorted-lists/description/*\n",
    "\n",
    "You are given the heads of two sorted linked lists list1 and list2.\n",
    "\n",
    "Merge the two lists into one sorted list. The list should be made by splicing together the nodes of the first two lists.\n",
    "\n",
    "Return the head of the merged linked list.\n",
    " \n",
    "**Example:**\n",
    "\n",
    "- Input: list1 = [1,2,4], list2 = [1,3,4]\n",
    "- Output: [1,1,2,3,4,4]\n",
    "\n",
    "**Constraints:**\n",
    "\n",
    "- The number of nodes in both lists is in the range [0, 50].\n",
    "- -100 <= Node.val <= 100\n",
    "- Both list1 and list2 are sorted in non-decreasing order."
   ]
  },
  {
   "cell_type": "markdown",
   "id": "95beafdf",
   "metadata": {},
   "source": [
    "---\n",
    "\n",
    "#### Solution 1\n",
    "\n",
    "Splicing is to reuse existing nodes, therefore the core problem is how to rearrange the pointers into a new list. This process reduces the memory usage since no new alocation is really needed! "
   ]
  },
  {
   "cell_type": "code",
   "execution_count": null,
   "id": "4744d988",
   "metadata": {},
   "outputs": [
    {
     "name": "stdout",
     "output_type": "stream",
     "text": [
      "List 1: 1 -> 2 -> 4\n",
      "List 2: 1 -> 3 -> 4\n",
      "Merged: 1 -> 1 -> 2 -> 3 -> 4 -> 4\n"
     ]
    }
   ],
   "source": [
    "class ListNode:\n",
    "    def __init__(self, val=0, next=None):\n",
    "        self.val = val\n",
    "        self.next = next\n",
    "    \n",
    "    def __repr__(self):\n",
    "        result = []\n",
    "        current = self\n",
    "        while current:\n",
    "            result.append(str(current.val))\n",
    "            current = current.next\n",
    "        return \" -> \".join(result)\n",
    "    \n",
    "def create_linked_list(arr):\n",
    "    if not arr:                     #Empty\n",
    "        return None\n",
    "    head = ListNode(arr[0])\n",
    "    current = head\n",
    "    for val in arr[1:]:\n",
    "        current.next = ListNode(val)\n",
    "        current = current.next\n",
    "    return head\n",
    "\n",
    "def MergeTwoL(list1, list2):\n",
    "    if not list1:     #Empty\n",
    "        return list2\n",
    "    if not list2:     #Empty\n",
    "        return list1\n",
    "\n",
    "    if list1.val <= list2.val:                     #Find the smaller node\n",
    "        list1.next = MergeTwoL(list1.next, list2)  #L1 first\n",
    "        return list1\n",
    "    else:\n",
    "        list2.next = MergeTwoL(list1, list2.next)  #L2 first\n",
    "        return list2\n",
    "\n",
    "list1_test = create_linked_list([1, 2, 4])\n",
    "list2_test = create_linked_list([1, 3, 4])\n",
    "print(f\"List 1: {list1_test}\")\n",
    "print(f\"List 2: {list2_test}\")\n",
    "test = MergeTwoL(list1_test, list2_test)\n",
    "print(f\"Merged: {test}\")"
   ]
  },
  {
   "cell_type": "markdown",
   "id": "052db264",
   "metadata": {},
   "source": [
    "---\n",
    "\n",
    "---\n",
    "\n"
   ]
  }
 ],
 "metadata": {
  "kernelspec": {
   "display_name": "Python 3",
   "language": "python",
   "name": "python3"
  },
  "language_info": {
   "codemirror_mode": {
    "name": "ipython",
    "version": 3
   },
   "file_extension": ".py",
   "mimetype": "text/x-python",
   "name": "python",
   "nbconvert_exporter": "python",
   "pygments_lexer": "ipython3",
   "version": "3.13.5"
  }
 },
 "nbformat": 4,
 "nbformat_minor": 5
}
