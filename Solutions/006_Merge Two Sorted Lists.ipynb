{
 "cells": [
  {
   "cell_type": "markdown",
   "id": "45907282",
   "metadata": {},
   "source": [
    "---\n",
    "\n",
    "---\n",
    "\n",
    "# [006] Merge Two Sorted Lists\n",
    "-> *https://leetcode.com/problems/merge-two-sorted-lists/description/*\n",
    "\n",
    "You are given the heads of two sorted linked lists list1 and list2.\n",
    "\n",
    "Merge the two lists into one sorted list. The list should be made by splicing together the nodes of the first two lists.\n",
    "\n",
    "Return the head of the merged linked list.\n",
    " \n",
    "**Example:**\n",
    "\n",
    "- Input: list1 = [1,2,4], list2 = [1,3,4]\n",
    "- Output: [1,1,2,3,4,4]\n",
    "\n",
    "**Constraints:**\n",
    "\n",
    "- The number of nodes in both lists is in the range [0, 50].\n",
    "- -100 <= Node.val <= 100\n",
    "- Both list1 and list2 are sorted in non-decreasing order."
   ]
  },
  {
   "cell_type": "markdown",
   "id": "95beafdf",
   "metadata": {},
   "source": [
    "---\n",
    "\n",
    "#### Solution 1\n",
    "\n",
    "Prefix, as the name suggests, are the inicial parts (or radicals) withing the words! Therefor, it's a matter of comparing every word's beginning simultaneously:"
   ]
  },
  {
   "cell_type": "code",
   "execution_count": 8,
   "id": "4744d988",
   "metadata": {},
   "outputs": [
    {
     "name": "stdout",
     "output_type": "stream",
     "text": [
      "Longest prefix: 'fl'\n"
     ]
    }
   ],
   "source": [
    "strs = [\"flower\",\"flow\",\"flight\"]\n",
    "prefix = \"\"\n",
    "\n",
    "for i in range(min(len(s) for s in strs)):                          #i for each character index\n",
    "    reference_char = strs[0][i]                                     #First word, first character for comparison   \n",
    "    if all(strs[j][i] == reference_char for j in range(len(strs))): #j for each word. Therefor compare j words at i character\n",
    "        prefix += reference_char                                    #Add to prefix\n",
    "    else:\n",
    "        break                                                       #Missmatch  \n",
    "        \n",
    "print(f\"Longest prefix: '{prefix}'\")\n",
    "\n",
    "#Usage of \"all\"\n",
    "#all(True, True, True)  → True, cause all are True\n",
    "#all(True, True, False) → False, cause at least one is False"
   ]
  },
  {
   "cell_type": "markdown",
   "id": "052db264",
   "metadata": {},
   "source": [
    "---\n",
    "\n",
    "---\n",
    "\n"
   ]
  }
 ],
 "metadata": {
  "kernelspec": {
   "display_name": "Python 3",
   "language": "python",
   "name": "python3"
  },
  "language_info": {
   "codemirror_mode": {
    "name": "ipython",
    "version": 3
   },
   "file_extension": ".py",
   "mimetype": "text/x-python",
   "name": "python",
   "nbconvert_exporter": "python",
   "pygments_lexer": "ipython3",
   "version": "3.13.5"
  }
 },
 "nbformat": 4,
 "nbformat_minor": 5
}
