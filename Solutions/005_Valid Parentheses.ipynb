{
 "cells": [
  {
   "cell_type": "markdown",
   "id": "45907282",
   "metadata": {},
   "source": [
    "---\n",
    "\n",
    "---\n",
    "\n",
    "# [005] Valid Parentheses\n",
    "-> *https://leetcode.com/problems/valid-parentheses/description/*\n",
    "\n",
    "Given a string s containing just the characters '(', ')', '{', '}', '[' and ']', determine if the input string is valid.\n",
    "\n",
    "An input string is valid if:\n",
    "\n",
    "1. Open brackets must be closed by the same type of brackets.\n",
    "2. Open brackets must be closed in the correct order.\n",
    "3. Every close bracket has a corresponding open bracket of the same type.\n",
    " \n",
    "**Example:**\n",
    "\n",
    "- Input: s = \"([])\"\n",
    "- Output: true\n",
    "\n",
    "**Constraints:**\n",
    "\n",
    "- 1 <= s.length <= $10^4$\n",
    "- s consists of parentheses only '()[]{}'."
   ]
  },
  {
   "cell_type": "markdown",
   "id": "95beafdf",
   "metadata": {},
   "source": [
    "---\n",
    "\n",
    "#### Solution 1\n",
    "\n",
    "One simple solution that it's possible is to divide the problem in two parts:\n",
    "1. Stack the openning parentheses as closing ones < \"(\" stacked as \")\">;\n",
    "2. When the clossing parentheses appear, we check if the stacked one is the desired one to pop!\n",
    "\n",
    "Example: {[]}\n",
    "1. Push }\n",
    "2. Push ]\n",
    "3. \"]\", do we have a \"]\" stacked? Yes! Then pop it...\n",
    "4. Same as above, with \"}\""
   ]
  },
  {
   "cell_type": "code",
   "execution_count": null,
   "id": "4744d988",
   "metadata": {},
   "outputs": [
    {
     "name": "stdout",
     "output_type": "stream",
     "text": [
      "True\n"
     ]
    }
   ],
   "source": [
    "s = \"((()))\"\n",
    "\n",
    "def isValid(s):\n",
    "    stack = []\n",
    "    \n",
    "    for char in s:\n",
    "        if char == '(':\n",
    "            stack.append(')')\n",
    "        elif char == '[':\n",
    "            stack.append(']')\n",
    "        elif char == '{':\n",
    "            stack.append('}')\n",
    "        else:  # \"),],}\"\n",
    "            if not stack or stack.pop() != char: #Stack is empty or missmatch\n",
    "                return False                     #Breaks out of function, not just loop\n",
    "    return len(stack) == 0\n",
    "\n",
    "print(isValid(s))"
   ]
  },
  {
   "cell_type": "markdown",
   "id": "052db264",
   "metadata": {},
   "source": [
    "Another, and more commom aproach, is to store the openning brackets and then check the stack with the mapping character! Both are O(n)...\n",
    "\n",
    "---\n",
    "\n",
    "---\n",
    "\n"
   ]
  }
 ],
 "metadata": {
  "kernelspec": {
   "display_name": "Python 3",
   "language": "python",
   "name": "python3"
  },
  "language_info": {
   "codemirror_mode": {
    "name": "ipython",
    "version": 3
   },
   "file_extension": ".py",
   "mimetype": "text/x-python",
   "name": "python",
   "nbconvert_exporter": "python",
   "pygments_lexer": "ipython3",
   "version": "3.13.5"
  }
 },
 "nbformat": 4,
 "nbformat_minor": 5
}
