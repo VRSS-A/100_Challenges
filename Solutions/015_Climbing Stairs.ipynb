{
 "cells": [
  {
   "cell_type": "markdown",
   "id": "45907282",
   "metadata": {},
   "source": [
    "---\n",
    "\n",
    "---\n",
    "\n",
    "# [015] Climbing Stairs\n",
    "-> *https://leetcode.com/problems/climbing-stairs/*\n",
    "\n",
    "You are climbing a staircase. It takes n steps to reach the top.\n",
    "\n",
    "Each time you can either climb 1 or 2 steps. In how many distinct ways can you climb to the top?\n",
    "\n",
    "**Example:**\n",
    "\n",
    "- Input: n = 3\n",
    "- Output: 3\n",
    "- Explanation: There are three ways to climb to the top.\n",
    "1. 1 step + 1 step + 1 step\n",
    "2. 1 step + 2 steps\n",
    "3. 2 steps + 1 step\n",
    " \n",
    "\n",
    "**Constraints:**\n",
    "\n",
    "- 1 <= n <= 45"
   ]
  },
  {
   "cell_type": "markdown",
   "id": "95beafdf",
   "metadata": {},
   "source": [
    "---\n",
    "\n",
    "#### Solution 1\n",
    "\n",
    "It turns out that, by looking at the possible steps of the first combinations (1=>1, 2=>2, 3=>3, 4=>5, 5=>8...), it's essentially Fibonacci! Therefore, recursion shall surfice... (a little problematic at n=45, but oh well)"
   ]
  },
  {
   "cell_type": "code",
   "execution_count": 1,
   "id": "4744d988",
   "metadata": {},
   "outputs": [
    {
     "name": "stdout",
     "output_type": "stream",
     "text": [
      "8\n"
     ]
    }
   ],
   "source": [
    "def Fibonacci(n):\n",
    "    if n <= 1:   #Default cases\n",
    "        return 1\n",
    "    if n == 2:\n",
    "        return 2\n",
    "    return Fibonacci(n-1) + Fibonacci(n-2) #Since n+2 = n+1 + n\n",
    "\n",
    "print(Fibonacci(5))"
   ]
  },
  {
   "cell_type": "markdown",
   "id": "052db264",
   "metadata": {},
   "source": [
    "---\n",
    "\n",
    "---\n",
    "\n"
   ]
  }
 ],
 "metadata": {
  "kernelspec": {
   "display_name": "Python 3",
   "language": "python",
   "name": "python3"
  },
  "language_info": {
   "codemirror_mode": {
    "name": "ipython",
    "version": 3
   },
   "file_extension": ".py",
   "mimetype": "text/x-python",
   "name": "python",
   "nbconvert_exporter": "python",
   "pygments_lexer": "ipython3",
   "version": "3.13.5"
  }
 },
 "nbformat": 4,
 "nbformat_minor": 5
}
