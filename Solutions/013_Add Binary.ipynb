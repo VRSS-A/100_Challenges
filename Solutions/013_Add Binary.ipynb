{
 "cells": [
  {
   "cell_type": "markdown",
   "id": "45907282",
   "metadata": {},
   "source": [
    "---\n",
    "\n",
    "---\n",
    "\n",
    "# [013] Add Binary\n",
    "-> *https://leetcode.com/problems/add-binary/*\n",
    "\n",
    "Given two binary strings a and b, return their sum as a binary string.\n",
    "\n",
    "**Example:**\n",
    "\n",
    "- Input: a = \"1010\", b = \"1011\"\n",
    "- Output: \"10101\"\n",
    " \n",
    "\n",
    "**Constraints:**\n",
    "\n",
    "- 1 <= a.length, b.length <= $10^4$\n",
    "- a and b consist only of '0' or '1' characters.\n",
    "- Each string does not contain leading zeros except for the zero itself."
   ]
  },
  {
   "cell_type": "markdown",
   "id": "95beafdf",
   "metadata": {},
   "source": [
    "---\n",
    "\n",
    "#### Solution\n",
    "\n",
    "It's a must to check parity for carry condition, and the difference in size of each array!"
   ]
  },
  {
   "cell_type": "code",
   "execution_count": null,
   "id": "4744d988",
   "metadata": {},
   "outputs": [
    {
     "name": "stdout",
     "output_type": "stream",
     "text": [
      "10101\n"
     ]
    }
   ],
   "source": [
    "def BinarySum(a, b):\n",
    "    i, j = len(a) - 1, len(b) - 1\n",
    "    carry = 0\n",
    "    result = []\n",
    "    \n",
    "    while i >= 0 or j >= 0 or carry:       #Ends at out of bounds or carry=0\n",
    "        bit_i = int(a[i]) if i >= 0 else 0 #Current, and 0 if out of bounds\n",
    "        bit_j = int(b[j]) if j >= 0 else 0\n",
    "\n",
    "        total = carry + bit_i + bit_j      #To check parity\n",
    "        \n",
    "        if total % 2 == 0:  \n",
    "            current = 0                    #[a] It can be placed carry=1, to adjust with the comment below\n",
    "        else:               \n",
    "            current = 1                    #Odd\n",
    "\n",
    "        if total >= 2:                     #[b] Or total % 3 == 0, same effect since if above was placed\n",
    "            carry = 1\n",
    "        else:            \n",
    "            carry = 0\n",
    "        \n",
    "        result.append(str(current))\n",
    "        i -= 1\n",
    "        j -= 1\n",
    "    \n",
    "    return ''.join(reversed(result))\n",
    "\n",
    "a = \"1010\"\n",
    "b = \"1011\" \n",
    "print(BinarySum(a, b))"
   ]
  },
  {
   "cell_type": "markdown",
   "id": "052db264",
   "metadata": {},
   "source": [
    "---\n",
    "\n",
    "---\n",
    "\n"
   ]
  }
 ],
 "metadata": {
  "kernelspec": {
   "display_name": "Python 3",
   "language": "python",
   "name": "python3"
  },
  "language_info": {
   "codemirror_mode": {
    "name": "ipython",
    "version": 3
   },
   "file_extension": ".py",
   "mimetype": "text/x-python",
   "name": "python",
   "nbconvert_exporter": "python",
   "pygments_lexer": "ipython3",
   "version": "3.13.5"
  }
 },
 "nbformat": 4,
 "nbformat_minor": 5
}
