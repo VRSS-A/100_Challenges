{
 "cells": [
  {
   "cell_type": "markdown",
   "id": "45907282",
   "metadata": {},
   "source": [
    "---\n",
    "\n",
    "---\n",
    "\n",
    "# [017] Merge Sorted Array\n",
    "-> *https://leetcode.com/problems/remove-duplicates-from-sorted-list/*\n",
    "\n",
    "You are given two integer arrays nums1 and nums2, sorted in non-decreasing order, and two integers m and n, representing the number of elements in nums1 and nums2 respectively.\n",
    "\n",
    "Merge nums1 and nums2 into a single array sorted in non-decreasing order.\n",
    "\n",
    "The final sorted array should not be returned by the function, but instead be stored inside the array nums1. To accommodate this, nums1 has a length of m + n, where the first m elements denote the elements that should be merged, and the last n elements are set to 0 and should be ignored. nums2 has a length of n.\n",
    "\n",
    "**Example:**\n",
    "\n",
    "- Input: nums1 = [1,2,3,0,0,0], m = 3, nums2 = [2,5,6], n = 3\n",
    "- Output: [1,2,2,3,5,6]\n",
    "\n",
    "**Constraints:**\n",
    "\n",
    "- The number of nodes in the list is in the range [0, 300].\n",
    "- -100 <= Node.val <= 100\n",
    "- The list is guaranteed to be sorted in ascending order."
   ]
  },
  {
   "cell_type": "markdown",
   "id": "95beafdf",
   "metadata": {},
   "source": [
    "---\n",
    "\n",
    "#### Solution 1\n",
    "\n",
    "First, it's possible (and easier) to use Python built-in string splitter! Second, a manual approach is usefull for in depth study of the problem!"
   ]
  },
  {
   "cell_type": "code",
   "execution_count": null,
   "id": "4744d988",
   "metadata": {},
   "outputs": [
    {
     "name": "stdout",
     "output_type": "stream",
     "text": [
      "Length of last word: 4\n"
     ]
    }
   ],
   "source": [
    "def lengthOfLastWord(s):\n",
    "    words = s.split()      #Split: whitespace/remove empty strings\n",
    "    return len(words[-1]) \n",
    "\n",
    "s = \"   fly me   to   the moon  \"\n",
    "result = lengthOfLastWord(s)\n",
    "print(f\"Length of last word: {result}\")"
   ]
  },
  {
   "cell_type": "code",
   "execution_count": 3,
   "id": "db3c53b3",
   "metadata": {},
   "outputs": [
    {
     "name": "stdout",
     "output_type": "stream",
     "text": [
      "Length of last word: 4\n"
     ]
    }
   ],
   "source": [
    "def LengthLastWord(s):\n",
    "    word_length = 0\n",
    "    i = 0\n",
    "    while i < len(s):\n",
    "        if s[i] != ' ':                       #Character\n",
    "            current_word_length = 0           #Reset counter\n",
    "            while i < len(s) and s[i] != ' ': \n",
    "                current_word_length += 1\n",
    "                i += 1\n",
    "            word_length = current_word_length #In case it's over\n",
    "        else:                                 #Space\n",
    "            i += 1                            #Skip\n",
    "    return word_length\n",
    "\n",
    "s = \"   fly me   to   the moon  \"\n",
    "result = LengthLastWord(s)\n",
    "print(f\"Length of last word: {result}\")"
   ]
  },
  {
   "cell_type": "markdown",
   "id": "052db264",
   "metadata": {},
   "source": [
    "---\n",
    "\n",
    "---\n",
    "\n"
   ]
  }
 ],
 "metadata": {
  "kernelspec": {
   "display_name": "Python 3",
   "language": "python",
   "name": "python3"
  },
  "language_info": {
   "codemirror_mode": {
    "name": "ipython",
    "version": 3
   },
   "file_extension": ".py",
   "mimetype": "text/x-python",
   "name": "python",
   "nbconvert_exporter": "python",
   "pygments_lexer": "ipython3",
   "version": "3.13.5"
  }
 },
 "nbformat": 4,
 "nbformat_minor": 5
}
