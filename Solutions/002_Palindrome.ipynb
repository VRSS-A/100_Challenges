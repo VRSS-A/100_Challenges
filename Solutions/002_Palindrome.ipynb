{
 "cells": [
  {
   "cell_type": "markdown",
   "id": "45907282",
   "metadata": {},
   "source": [
    "---\n",
    "\n",
    "---\n",
    "\n",
    "# [001] Palindrome Number\n",
    "\n",
    "-> *https://leetcode.com/problems/palindrome-number/description/*\n",
    "\n",
    "Given an integer x, return true if x is a palindrome, and false otherwise.\n",
    "\n",
    "**Example:**\n",
    "\n",
    "- Input: x = -121\n",
    "- Output: false\n",
    "- Explanation: From left to right, it reads -121. From right to left, it becomes 121-. Therefore it is not a palindrome.\n",
    "\n",
    "**Constraints:**\n",
    "\n",
    "- -$2^31$ <= x <= $2^31$"
   ]
  },
  {
   "cell_type": "markdown",
   "id": "95beafdf",
   "metadata": {},
   "source": [
    "---\n",
    "\n",
    "#### Solution\n",
    "\n",
    "Considering that the constrains are essencially the max representation of numbers, it's possible to focous solely on the ordem of the numerals."
   ]
  },
  {
   "cell_type": "code",
   "execution_count": 4,
   "id": "4744d988",
   "metadata": {},
   "outputs": [
    {
     "name": "stdout",
     "output_type": "stream",
     "text": [
      "Is 121 a palindrome?\n",
      " True\n",
      "Is 12321 a palindrome?\n",
      " True\n",
      "Is -121 a palindrome?\n",
      " False\n",
      "Is 123 a palindrome?\n",
      " False\n",
      "Is 1221 a palindrome?\n",
      " True\n",
      "Is 12321 a palindrome?\n",
      " True\n"
     ]
    }
   ],
   "source": [
    "def palindrome_checker(x):\n",
    "\n",
    "    if x < 0:           #Elementary chcek, since the example itself signals\n",
    "        return False\n",
    "\n",
    "    str_x = str(x)      #Conversion to string\n",
    "\n",
    "    left_side  = str_x[:len(str_x)//2]     #Beginning to middle\n",
    "    right_side = str_x[-(len(str_x)//2):]  #Middle to end\n",
    "    return left_side == right_side[::-1]   #Comparison, right is reversed\n",
    "\n",
    "examples = [121, 12321, -121, 123, 1221, 12321]\n",
    "\n",
    "for example in examples:\n",
    "    result = palindrome_checker(example)\n",
    "    print(f\"Is {example} a palindrome?\\n {result}\")\n"
   ]
  },
  {
   "cell_type": "markdown",
   "id": "052db264",
   "metadata": {},
   "source": [
    "---\n",
    "\n",
    "\n",
    "---\n",
    "\n",
    "\n",
    "\n"
   ]
  }
 ],
 "metadata": {
  "kernelspec": {
   "display_name": "Python 3",
   "language": "python",
   "name": "python3"
  },
  "language_info": {
   "codemirror_mode": {
    "name": "ipython",
    "version": 3
   },
   "file_extension": ".py",
   "mimetype": "text/x-python",
   "name": "python",
   "nbconvert_exporter": "python",
   "pygments_lexer": "ipython3",
   "version": "3.13.5"
  }
 },
 "nbformat": 4,
 "nbformat_minor": 5
}
